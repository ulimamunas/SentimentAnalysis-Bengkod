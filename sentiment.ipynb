{
 "cells": [
  {
   "cell_type": "code",
   "execution_count": 32,
   "metadata": {},
   "outputs": [
    {
     "name": "stdout",
     "output_type": "stream",
     "text": [
      "Tolak RUU pilkada mati matian demo,, sekali pak presiddn beri isyarat kawal RUU PERAMPASAN ASET KORUPTOR SEPIII.... seolah bisu tuli... 0\n",
      "Darurat ????? Ga usah lebayyy 0\n",
      "Mending mengesahkan revisi UUD perlindungan PRT itu lebih berkah 0\n",
      "Ricuh dan perusakan  itu akibat dari kurangnya moral DPR kita mengakomodir keinginan para penyampaian aspirasi masyarakat yg kita lihat saat ini justru kepentingan pribadi dan golongan dia\n",
      "tas segalanya 0\n",
      "UU koruptor coba demo mahasiswa.. \n",
      "Diem aja 😂😂 koruptor hukum mati dan perampasan aset.. 0\n",
      "Masa semua tanda tangan mengadakan tuntutan ke pejabat yang tidak sesuai keinginan rakyat \n",
      "\n",
      "Hormat kami \n",
      "Ratu Adil Lucialeo WenasWicaksonoMoehantoPadmodjoyo 0\n",
      "Tapi jangan ada kerusakan, ajukan tuntutan ke pengadilan tinggi negara 0\n",
      "Betul. Indonesia milik rakyat indonesia bukan kelompok 0\n",
      "kd dampit csi polda metro jaya 1045 pak muhdi sagita dari mandiri citi bank 0\n",
      "selamat sore 0\n"
     ]
    }
   ],
   "source": [
    "from googleapiclient.discovery import build\n",
    "import pandas as pd\n",
    "import re\n",
    "\n",
    "def extract_video_id(url):\n",
    "    match = re.search(r\"(?:v=|\\/)([a-zA-Z0-9_-]{11})\", url)\n",
    "    return match.group(1) if match else None\n",
    "\n",
    "def get_comments(api_key, url):\n",
    "    youtube = build('youtube', 'v3', developerKey=api_key)\n",
    "    \n",
    "    single_video_id = extract_video_id(url) if \"youtube.com\" in url else url\n",
    "    if not single_video_id:\n",
    "        print(\"Invalid video URL or ID\")\n",
    "        return\n",
    "\n",
    "    video_list = youtube.videos().list(part=\"snippet\", id=single_video_id).execute()\n",
    "    if not video_list[\"items\"]:\n",
    "        print(\"Video not found or no access.\")\n",
    "        return\n",
    "\n",
    "    nextPageToken_comments = None\n",
    "    commentsone = []\n",
    "\n",
    "    while True:\n",
    "        pl_request_comment = youtube.commentThreads().list(\n",
    "            part=[\"snippet\", \"replies\"],\n",
    "            videoId=single_video_id,\n",
    "            maxResults=50,\n",
    "            pageToken=nextPageToken_comments\n",
    "        )\n",
    "        pl_response_comment = pl_request_comment.execute()\n",
    "\n",
    "        for i in pl_response_comment[\"items\"]:\n",
    "            vid_comments = i[\"snippet\"][\"topLevelComment\"][\"snippet\"][\"textOriginal\"]\n",
    "            comm_author = i[\"snippet\"][\"topLevelComment\"][\"snippet\"][\"authorDisplayName\"]\n",
    "            comm_author_id = i[\"snippet\"][\"topLevelComment\"][\"snippet\"][\"authorChannelId\"][\"value\"]\n",
    "            comm_date = i[\"snippet\"][\"topLevelComment\"][\"snippet\"][\"publishedAt\"]\n",
    "            comm_likes = i[\"snippet\"][\"topLevelComment\"][\"snippet\"][\"likeCount\"]\n",
    "\n",
    "            # Tambahan untuk mendapatkan reply jika ada\n",
    "            new_var = i.get(\"replies\", \"0\")\n",
    "\n",
    "            commentsone.append({\n",
    "                \"comm_date\": comm_date,\n",
    "                \"author\": comm_author,\n",
    "                \"author_id\": comm_author_id,\n",
    "                \"likes\": comm_likes,\n",
    "                \"comment\": vid_comments,\n",
    "                \"replies\": new_var,\n",
    "                \"video_id\": single_video_id\n",
    "            })\n",
    "\n",
    "        nextPageToken_comments = pl_response_comment.get(\"nextPageToken\")\n",
    "        if not nextPageToken_comments:\n",
    "            break\n",
    "\n",
    "    # Simpan data komentar dengan replies ke CSV\n",
    "    df = pd.DataFrame.from_dict(commentsone)\n",
    "    df.to_csv(\"dataset.csv\", index=False)\n",
    "\n",
    "    # Cetak 10 komentar pertama untuk verifikasi\n",
    "    for i in commentsone[:10]:\n",
    "        print(i[\"comment\"], i[\"replies\"])\n",
    "\n",
    "# Input API Key dan URL\n",
    "api_key = input(\"API KEY: \")\n",
    "url = input(\"VIDEOURL: \")\n",
    "get_comments(api_key, url)\n"
   ]
  },
  {
   "cell_type": "code",
   "execution_count": 33,
   "metadata": {},
   "outputs": [
    {
     "name": "stdout",
     "output_type": "stream",
     "text": [
      "              comm_date             author                 author_id  likes  \\\n",
      "0  2024-08-29T04:47:30Z   @DansReddlesCorp  UCHaQYPcOclOgXm6RCIs2W6Q      0   \n",
      "1  2024-08-28T11:49:02Z        @yoenisu484  UC4KpgwdaoWOev0pENvRLv7g      0   \n",
      "2  2024-08-27T18:15:04Z     @Wisatachanell  UChNzLkzQxjdEpepN_yT_mRA      0   \n",
      "3  2024-08-27T09:39:59Z   @RediManlaia-t7g  UC6XZ2EKwZfwHVui_G1ZYSUQ      0   \n",
      "4  2024-08-27T04:25:30Z  @satriawibawa9079  UCZ8qjsVcd9Zt_PBPM-lkeCA      0   \n",
      "\n",
      "                                             comment replies     video_id  \n",
      "0  Tolak RUU pilkada mati matian demo,, sekali pa...       0  rONUSWIPhbA  \n",
      "1                      Darurat ????? Ga usah lebayyy       0  rONUSWIPhbA  \n",
      "2  Mending mengesahkan revisi UUD perlindungan PR...       0  rONUSWIPhbA  \n",
      "3  Ricuh dan perusakan  itu akibat dari kurangnya...       0  rONUSWIPhbA  \n",
      "4  UU koruptor coba demo mahasiswa.. \\nDiem aja 😂...       0  rONUSWIPhbA  \n"
     ]
    }
   ],
   "source": [
    "import nltk\n",
    "import pandas as pd\n",
    "\n",
    "# Membaca file CSV yang berisi dataset komentar\n",
    "data = pd.read_csv(\"./dataset.csv\")\n",
    "\n",
    "# Menghapus baris yang memiliki nilai kosong (NaN) dari dataset\n",
    "data = data.dropna()\n",
    "\n",
    "# Mencetak 5 baris pertama dari dataset yang telah dibersihkan\n",
    "print(data.head())\n"
   ]
  }
 ],
 "metadata": {
  "kernelspec": {
   "display_name": "myenv",
   "language": "python",
   "name": "python3"
  },
  "language_info": {
   "codemirror_mode": {
    "name": "ipython",
    "version": 3
   },
   "file_extension": ".py",
   "mimetype": "text/x-python",
   "name": "python",
   "nbconvert_exporter": "python",
   "pygments_lexer": "ipython3",
   "version": "3.12.2"
  }
 },
 "nbformat": 4,
 "nbformat_minor": 2
}
